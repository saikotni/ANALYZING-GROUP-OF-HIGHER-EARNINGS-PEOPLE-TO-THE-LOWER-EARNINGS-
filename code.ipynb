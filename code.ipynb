{
 "cells": [
  {
   "cell_type": "markdown",
   "id": "44e2794d",
   "metadata": {},
   "source": [
    "esc, M, # comment"
   ]
  },
  {
   "cell_type": "markdown",
   "id": "35328f84",
   "metadata": {},
   "source": [
    "# Importing libraries"
   ]
  },
  {
   "cell_type": "code",
   "execution_count": 2,
   "id": "1e1d3bf8",
   "metadata": {},
   "outputs": [],
   "source": [
    "import csv\n",
    "import math\n",
    "import os\n",
    "\n",
    "import numpy as np\n",
    "import pandas as pd\n",
    "import seaborn as sns\n",
    "\n",
    "import matplotlib.mlab as mlab\n",
    "import matplotlib.pyplot as plt\n",
    "%matplotlib inline\n",
    "\n",
    "import scipy.stats as stat\n",
    "import warnings\n",
    "warnings.filterwarnings('ignore')\n"
   ]
  },
  {
   "cell_type": "markdown",
   "id": "1f9201bd",
   "metadata": {},
   "source": [
    "# loading the dataset"
   ]
  },
  {
   "cell_type": "code",
   "execution_count": 3,
   "id": "23d87b32",
   "metadata": {},
   "outputs": [
    {
     "data": {
      "text/html": [
       "<div>\n",
       "<style scoped>\n",
       "    .dataframe tbody tr th:only-of-type {\n",
       "        vertical-align: middle;\n",
       "    }\n",
       "\n",
       "    .dataframe tbody tr th {\n",
       "        vertical-align: top;\n",
       "    }\n",
       "\n",
       "    .dataframe thead th {\n",
       "        text-align: right;\n",
       "    }\n",
       "</style>\n",
       "<table border=\"1\" class=\"dataframe\">\n",
       "  <thead>\n",
       "    <tr style=\"text-align: right;\">\n",
       "      <th></th>\n",
       "      <th>Seq No</th>\n",
       "      <th>intnum</th>\n",
       "      <th>persnum</th>\n",
       "      <th>age</th>\n",
       "      <th>educatn</th>\n",
       "      <th>earnings</th>\n",
       "      <th>hours</th>\n",
       "      <th>kids</th>\n",
       "      <th>married</th>\n",
       "    </tr>\n",
       "  </thead>\n",
       "  <tbody>\n",
       "    <tr>\n",
       "      <th>0</th>\n",
       "      <td>1</td>\n",
       "      <td>4</td>\n",
       "      <td>4</td>\n",
       "      <td>39</td>\n",
       "      <td>12.0</td>\n",
       "      <td>77250</td>\n",
       "      <td>2940</td>\n",
       "      <td>2</td>\n",
       "      <td>married</td>\n",
       "    </tr>\n",
       "    <tr>\n",
       "      <th>1</th>\n",
       "      <td>2</td>\n",
       "      <td>4</td>\n",
       "      <td>6</td>\n",
       "      <td>35</td>\n",
       "      <td>12.0</td>\n",
       "      <td>12000</td>\n",
       "      <td>2040</td>\n",
       "      <td>2</td>\n",
       "      <td>divorced</td>\n",
       "    </tr>\n",
       "    <tr>\n",
       "      <th>2</th>\n",
       "      <td>3</td>\n",
       "      <td>4</td>\n",
       "      <td>7</td>\n",
       "      <td>33</td>\n",
       "      <td>12.0</td>\n",
       "      <td>8000</td>\n",
       "      <td>693</td>\n",
       "      <td>1</td>\n",
       "      <td>married</td>\n",
       "    </tr>\n",
       "    <tr>\n",
       "      <th>3</th>\n",
       "      <td>4</td>\n",
       "      <td>4</td>\n",
       "      <td>173</td>\n",
       "      <td>39</td>\n",
       "      <td>10.0</td>\n",
       "      <td>15000</td>\n",
       "      <td>1904</td>\n",
       "      <td>2</td>\n",
       "      <td>married</td>\n",
       "    </tr>\n",
       "    <tr>\n",
       "      <th>4</th>\n",
       "      <td>5</td>\n",
       "      <td>5</td>\n",
       "      <td>2</td>\n",
       "      <td>47</td>\n",
       "      <td>9.0</td>\n",
       "      <td>6500</td>\n",
       "      <td>1683</td>\n",
       "      <td>5</td>\n",
       "      <td>married</td>\n",
       "    </tr>\n",
       "    <tr>\n",
       "      <th>...</th>\n",
       "      <td>...</td>\n",
       "      <td>...</td>\n",
       "      <td>...</td>\n",
       "      <td>...</td>\n",
       "      <td>...</td>\n",
       "      <td>...</td>\n",
       "      <td>...</td>\n",
       "      <td>...</td>\n",
       "      <td>...</td>\n",
       "    </tr>\n",
       "    <tr>\n",
       "      <th>4851</th>\n",
       "      <td>4852</td>\n",
       "      <td>9297</td>\n",
       "      <td>2</td>\n",
       "      <td>42</td>\n",
       "      <td>2.0</td>\n",
       "      <td>3000</td>\n",
       "      <td>1040</td>\n",
       "      <td>4</td>\n",
       "      <td>married</td>\n",
       "    </tr>\n",
       "    <tr>\n",
       "      <th>4852</th>\n",
       "      <td>4853</td>\n",
       "      <td>9301</td>\n",
       "      <td>2</td>\n",
       "      <td>43</td>\n",
       "      <td>12.0</td>\n",
       "      <td>0</td>\n",
       "      <td>0</td>\n",
       "      <td>2</td>\n",
       "      <td>married</td>\n",
       "    </tr>\n",
       "    <tr>\n",
       "      <th>4853</th>\n",
       "      <td>4854</td>\n",
       "      <td>9302</td>\n",
       "      <td>1</td>\n",
       "      <td>37</td>\n",
       "      <td>8.0</td>\n",
       "      <td>22045</td>\n",
       "      <td>2793</td>\n",
       "      <td>98</td>\n",
       "      <td>divorced</td>\n",
       "    </tr>\n",
       "    <tr>\n",
       "      <th>4854</th>\n",
       "      <td>4855</td>\n",
       "      <td>9305</td>\n",
       "      <td>2</td>\n",
       "      <td>40</td>\n",
       "      <td>6.0</td>\n",
       "      <td>134</td>\n",
       "      <td>30</td>\n",
       "      <td>3</td>\n",
       "      <td>married</td>\n",
       "    </tr>\n",
       "    <tr>\n",
       "      <th>4855</th>\n",
       "      <td>4856</td>\n",
       "      <td>9306</td>\n",
       "      <td>2</td>\n",
       "      <td>37</td>\n",
       "      <td>17.0</td>\n",
       "      <td>33000</td>\n",
       "      <td>2423</td>\n",
       "      <td>4</td>\n",
       "      <td>married</td>\n",
       "    </tr>\n",
       "  </tbody>\n",
       "</table>\n",
       "<p>4856 rows × 9 columns</p>\n",
       "</div>"
      ],
      "text/plain": [
       "      Seq No  intnum  persnum  age  educatn  earnings  hours  kids   married\n",
       "0          1       4        4   39     12.0     77250   2940     2   married\n",
       "1          2       4        6   35     12.0     12000   2040     2  divorced\n",
       "2          3       4        7   33     12.0      8000    693     1   married\n",
       "3          4       4      173   39     10.0     15000   1904     2   married\n",
       "4          5       5        2   47      9.0      6500   1683     5   married\n",
       "...      ...     ...      ...  ...      ...       ...    ...   ...       ...\n",
       "4851    4852    9297        2   42      2.0      3000   1040     4   married\n",
       "4852    4853    9301        2   43     12.0         0      0     2   married\n",
       "4853    4854    9302        1   37      8.0     22045   2793    98  divorced\n",
       "4854    4855    9305        2   40      6.0       134     30     3   married\n",
       "4855    4856    9306        2   37     17.0     33000   2423     4   married\n",
       "\n",
       "[4856 rows x 9 columns]"
      ]
     },
     "execution_count": 3,
     "metadata": {},
     "output_type": "execute_result"
    }
   ],
   "source": [
    "df= pd.read_csv('working.csv')\n",
    "df"
   ]
  },
  {
   "cell_type": "markdown",
   "id": "741d176c",
   "metadata": {},
   "source": [
    "# DATA PREPROCESSING\n",
    "## droping columns that are not required for analysis"
   ]
  },
  {
   "cell_type": "code",
   "execution_count": 4,
   "id": "b6976608",
   "metadata": {
    "scrolled": false
   },
   "outputs": [
    {
     "data": {
      "text/html": [
       "<div>\n",
       "<style scoped>\n",
       "    .dataframe tbody tr th:only-of-type {\n",
       "        vertical-align: middle;\n",
       "    }\n",
       "\n",
       "    .dataframe tbody tr th {\n",
       "        vertical-align: top;\n",
       "    }\n",
       "\n",
       "    .dataframe thead th {\n",
       "        text-align: right;\n",
       "    }\n",
       "</style>\n",
       "<table border=\"1\" class=\"dataframe\">\n",
       "  <thead>\n",
       "    <tr style=\"text-align: right;\">\n",
       "      <th></th>\n",
       "      <th>age</th>\n",
       "      <th>educatn</th>\n",
       "      <th>earnings</th>\n",
       "      <th>hours</th>\n",
       "      <th>kids</th>\n",
       "      <th>married</th>\n",
       "    </tr>\n",
       "  </thead>\n",
       "  <tbody>\n",
       "    <tr>\n",
       "      <th>0</th>\n",
       "      <td>39</td>\n",
       "      <td>12.0</td>\n",
       "      <td>77250</td>\n",
       "      <td>2940</td>\n",
       "      <td>2</td>\n",
       "      <td>married</td>\n",
       "    </tr>\n",
       "    <tr>\n",
       "      <th>1</th>\n",
       "      <td>35</td>\n",
       "      <td>12.0</td>\n",
       "      <td>12000</td>\n",
       "      <td>2040</td>\n",
       "      <td>2</td>\n",
       "      <td>divorced</td>\n",
       "    </tr>\n",
       "    <tr>\n",
       "      <th>2</th>\n",
       "      <td>33</td>\n",
       "      <td>12.0</td>\n",
       "      <td>8000</td>\n",
       "      <td>693</td>\n",
       "      <td>1</td>\n",
       "      <td>married</td>\n",
       "    </tr>\n",
       "    <tr>\n",
       "      <th>3</th>\n",
       "      <td>39</td>\n",
       "      <td>10.0</td>\n",
       "      <td>15000</td>\n",
       "      <td>1904</td>\n",
       "      <td>2</td>\n",
       "      <td>married</td>\n",
       "    </tr>\n",
       "    <tr>\n",
       "      <th>4</th>\n",
       "      <td>47</td>\n",
       "      <td>9.0</td>\n",
       "      <td>6500</td>\n",
       "      <td>1683</td>\n",
       "      <td>5</td>\n",
       "      <td>married</td>\n",
       "    </tr>\n",
       "    <tr>\n",
       "      <th>...</th>\n",
       "      <td>...</td>\n",
       "      <td>...</td>\n",
       "      <td>...</td>\n",
       "      <td>...</td>\n",
       "      <td>...</td>\n",
       "      <td>...</td>\n",
       "    </tr>\n",
       "    <tr>\n",
       "      <th>4851</th>\n",
       "      <td>42</td>\n",
       "      <td>2.0</td>\n",
       "      <td>3000</td>\n",
       "      <td>1040</td>\n",
       "      <td>4</td>\n",
       "      <td>married</td>\n",
       "    </tr>\n",
       "    <tr>\n",
       "      <th>4852</th>\n",
       "      <td>43</td>\n",
       "      <td>12.0</td>\n",
       "      <td>0</td>\n",
       "      <td>0</td>\n",
       "      <td>2</td>\n",
       "      <td>married</td>\n",
       "    </tr>\n",
       "    <tr>\n",
       "      <th>4853</th>\n",
       "      <td>37</td>\n",
       "      <td>8.0</td>\n",
       "      <td>22045</td>\n",
       "      <td>2793</td>\n",
       "      <td>98</td>\n",
       "      <td>divorced</td>\n",
       "    </tr>\n",
       "    <tr>\n",
       "      <th>4854</th>\n",
       "      <td>40</td>\n",
       "      <td>6.0</td>\n",
       "      <td>134</td>\n",
       "      <td>30</td>\n",
       "      <td>3</td>\n",
       "      <td>married</td>\n",
       "    </tr>\n",
       "    <tr>\n",
       "      <th>4855</th>\n",
       "      <td>37</td>\n",
       "      <td>17.0</td>\n",
       "      <td>33000</td>\n",
       "      <td>2423</td>\n",
       "      <td>4</td>\n",
       "      <td>married</td>\n",
       "    </tr>\n",
       "  </tbody>\n",
       "</table>\n",
       "<p>4856 rows × 6 columns</p>\n",
       "</div>"
      ],
      "text/plain": [
       "      age  educatn  earnings  hours  kids   married\n",
       "0      39     12.0     77250   2940     2   married\n",
       "1      35     12.0     12000   2040     2  divorced\n",
       "2      33     12.0      8000    693     1   married\n",
       "3      39     10.0     15000   1904     2   married\n",
       "4      47      9.0      6500   1683     5   married\n",
       "...   ...      ...       ...    ...   ...       ...\n",
       "4851   42      2.0      3000   1040     4   married\n",
       "4852   43     12.0         0      0     2   married\n",
       "4853   37      8.0     22045   2793    98  divorced\n",
       "4854   40      6.0       134     30     3   married\n",
       "4855   37     17.0     33000   2423     4   married\n",
       "\n",
       "[4856 rows x 6 columns]"
      ]
     },
     "execution_count": 4,
     "metadata": {},
     "output_type": "execute_result"
    }
   ],
   "source": [
    "df1 = df.drop([\"Seq No\", \"intnum\", \"persnum\"], axis=1)\n",
    "df1"
   ]
  },
  {
   "cell_type": "markdown",
   "id": "313df791",
   "metadata": {},
   "source": [
    "# Rename column"
   ]
  },
  {
   "cell_type": "code",
   "execution_count": 5,
   "id": "38e93ab4",
   "metadata": {},
   "outputs": [],
   "source": [
    "df1=df1.rename({'educatn':'education'},axis=1)"
   ]
  },
  {
   "cell_type": "markdown",
   "id": "709de4bd",
   "metadata": {},
   "source": [
    "# knowing the statistics of dataset"
   ]
  },
  {
   "cell_type": "code",
   "execution_count": 6,
   "id": "04e4b024",
   "metadata": {},
   "outputs": [
    {
     "data": {
      "text/html": [
       "<div>\n",
       "<style scoped>\n",
       "    .dataframe tbody tr th:only-of-type {\n",
       "        vertical-align: middle;\n",
       "    }\n",
       "\n",
       "    .dataframe tbody tr th {\n",
       "        vertical-align: top;\n",
       "    }\n",
       "\n",
       "    .dataframe thead th {\n",
       "        text-align: right;\n",
       "    }\n",
       "</style>\n",
       "<table border=\"1\" class=\"dataframe\">\n",
       "  <thead>\n",
       "    <tr style=\"text-align: right;\">\n",
       "      <th></th>\n",
       "      <th>age</th>\n",
       "      <th>education</th>\n",
       "      <th>earnings</th>\n",
       "      <th>hours</th>\n",
       "      <th>kids</th>\n",
       "    </tr>\n",
       "  </thead>\n",
       "  <tbody>\n",
       "    <tr>\n",
       "      <th>count</th>\n",
       "      <td>4856.000000</td>\n",
       "      <td>4855.000000</td>\n",
       "      <td>4856.000000</td>\n",
       "      <td>4856.000000</td>\n",
       "      <td>4856.000000</td>\n",
       "    </tr>\n",
       "    <tr>\n",
       "      <th>mean</th>\n",
       "      <td>38.462932</td>\n",
       "      <td>16.377137</td>\n",
       "      <td>14244.506178</td>\n",
       "      <td>1235.334843</td>\n",
       "      <td>4.481260</td>\n",
       "    </tr>\n",
       "    <tr>\n",
       "      <th>std</th>\n",
       "      <td>5.595116</td>\n",
       "      <td>18.449502</td>\n",
       "      <td>15985.447449</td>\n",
       "      <td>947.175837</td>\n",
       "      <td>14.887856</td>\n",
       "    </tr>\n",
       "    <tr>\n",
       "      <th>min</th>\n",
       "      <td>30.000000</td>\n",
       "      <td>0.000000</td>\n",
       "      <td>0.000000</td>\n",
       "      <td>0.000000</td>\n",
       "      <td>0.000000</td>\n",
       "    </tr>\n",
       "    <tr>\n",
       "      <th>25%</th>\n",
       "      <td>34.000000</td>\n",
       "      <td>12.000000</td>\n",
       "      <td>85.000000</td>\n",
       "      <td>32.000000</td>\n",
       "      <td>1.000000</td>\n",
       "    </tr>\n",
       "    <tr>\n",
       "      <th>50%</th>\n",
       "      <td>38.000000</td>\n",
       "      <td>12.000000</td>\n",
       "      <td>11000.000000</td>\n",
       "      <td>1517.000000</td>\n",
       "      <td>2.000000</td>\n",
       "    </tr>\n",
       "    <tr>\n",
       "      <th>75%</th>\n",
       "      <td>43.000000</td>\n",
       "      <td>14.000000</td>\n",
       "      <td>22000.000000</td>\n",
       "      <td>2000.000000</td>\n",
       "      <td>3.000000</td>\n",
       "    </tr>\n",
       "    <tr>\n",
       "      <th>max</th>\n",
       "      <td>50.000000</td>\n",
       "      <td>99.000000</td>\n",
       "      <td>240000.000000</td>\n",
       "      <td>5160.000000</td>\n",
       "      <td>99.000000</td>\n",
       "    </tr>\n",
       "  </tbody>\n",
       "</table>\n",
       "</div>"
      ],
      "text/plain": [
       "               age    education       earnings        hours         kids\n",
       "count  4856.000000  4855.000000    4856.000000  4856.000000  4856.000000\n",
       "mean     38.462932    16.377137   14244.506178  1235.334843     4.481260\n",
       "std       5.595116    18.449502   15985.447449   947.175837    14.887856\n",
       "min      30.000000     0.000000       0.000000     0.000000     0.000000\n",
       "25%      34.000000    12.000000      85.000000    32.000000     1.000000\n",
       "50%      38.000000    12.000000   11000.000000  1517.000000     2.000000\n",
       "75%      43.000000    14.000000   22000.000000  2000.000000     3.000000\n",
       "max      50.000000    99.000000  240000.000000  5160.000000    99.000000"
      ]
     },
     "execution_count": 6,
     "metadata": {},
     "output_type": "execute_result"
    }
   ],
   "source": [
    "df1.describe()"
   ]
  },
  {
   "cell_type": "markdown",
   "id": "9bef1856",
   "metadata": {},
   "source": [
    "# finding null values"
   ]
  },
  {
   "cell_type": "code",
   "execution_count": 7,
   "id": "490f7ae5",
   "metadata": {},
   "outputs": [
    {
     "data": {
      "text/plain": [
       "Seq No      0\n",
       "intnum      0\n",
       "persnum     0\n",
       "age         0\n",
       "educatn     1\n",
       "earnings    0\n",
       "hours       0\n",
       "kids        0\n",
       "married     0\n",
       "dtype: int64"
      ]
     },
     "execution_count": 7,
     "metadata": {},
     "output_type": "execute_result"
    }
   ],
   "source": [
    "df.isnull().sum()"
   ]
  },
  {
   "cell_type": "markdown",
   "id": "d43a404a",
   "metadata": {},
   "source": [
    "# Filling Null values"
   ]
  },
  {
   "cell_type": "code",
   "execution_count": 8,
   "id": "86ab97ef",
   "metadata": {},
   "outputs": [],
   "source": [
    "#\n",
    "df1['education'] = df1['education'].fillna(df1['education'].mean())"
   ]
  },
  {
   "cell_type": "code",
   "execution_count": 9,
   "id": "0cecd973",
   "metadata": {},
   "outputs": [
    {
     "data": {
      "text/plain": [
       "age          0\n",
       "education    0\n",
       "earnings     0\n",
       "hours        0\n",
       "kids         0\n",
       "married      0\n",
       "dtype: int64"
      ]
     },
     "execution_count": 9,
     "metadata": {},
     "output_type": "execute_result"
    }
   ],
   "source": [
    "#\n",
    "df1.isnull().sum()"
   ]
  },
  {
   "cell_type": "markdown",
   "id": "e386915a",
   "metadata": {},
   "source": [
    "# Exploratory data analysis"
   ]
  },
  {
   "cell_type": "code",
   "execution_count": 10,
   "id": "1c2f7b76",
   "metadata": {},
   "outputs": [
    {
     "data": {
      "text/plain": [
       "<seaborn.axisgrid.FacetGrid at 0x23078ff00a0>"
      ]
     },
     "execution_count": 10,
     "metadata": {},
     "output_type": "execute_result"
    },
    {
     "data": {
      "image/png": "[encoded data removed]",
      "text/plain": [
       "<Figure size 467x360 with 1 Axes>"
      ]
     },
     "metadata": {
      "needs_background": "light"
     },
     "output_type": "display_data"
    }
   ],
   "source": [
    "#Scatter plot\n",
    "sns.FacetGrid(df1,hue=\"married\",size=5).map(plt.scatter,\"education\",\"earnings\").add_legend()"
   ]
  },
  {
   "cell_type": "markdown",
   "id": "0121a8a3",
   "metadata": {},
   "source": [
    "# Observation: Married people earning more and we found outliers at range of 100"
   ]
  },
  {
   "cell_type": "markdown",
   "id": "2d301d9d",
   "metadata": {},
   "source": [
    "# Finding outliers"
   ]
  },
  {
   "cell_type": "code",
   "execution_count": 11,
   "id": "cf9ceac0",
   "metadata": {},
   "outputs": [
    {
     "data": {
      "text/plain": [
       "<AxesSubplot:xlabel='age', ylabel='education'>"
      ]
     },
     "execution_count": 11,
     "metadata": {},
     "output_type": "execute_result"
    },
    {
     "data": {
      "image/png": "[encoded data removed]",
      "text/plain": [
       "<Figure size 432x288 with 1 Axes>"
      ]
     },
     "metadata": {
      "needs_background": "light"
     },
     "output_type": "display_data"
    }
   ],
   "source": [
    "sns.boxplot(x='age',y='education',data=df1)"
   ]
  },
  {
   "cell_type": "markdown",
   "id": "ba72fdfb",
   "metadata": {},
   "source": [
    "obeservation: education feature, outlier at range in 100"
   ]
  },
  {
   "cell_type": "code",
   "execution_count": 12,
   "id": "0ccf3a5b",
   "metadata": {},
   "outputs": [
    {
     "data": {
      "text/plain": [
       "<AxesSubplot:xlabel='kids'>"
      ]
     },
     "execution_count": 12,
     "metadata": {},
     "output_type": "execute_result"
    },
    {
     "data": {
      "image/png": "[encoded data removed]",
      "text/plain": [
       "<Figure size 432x288 with 1 Axes>"
      ]
     },
     "metadata": {
      "needs_background": "light"
     },
     "output_type": "display_data"
    }
   ],
   "source": [
    "sns.boxplot(x=df1['kids'],showmeans=True,meanline=True)"
   ]
  },
  {
   "cell_type": "markdown",
   "id": "8d44bcc4",
   "metadata": {},
   "source": [
    "observation: kids feature, outlier at range in 100"
   ]
  },
  {
   "cell_type": "code",
   "execution_count": 13,
   "id": "3915066a",
   "metadata": {},
   "outputs": [
    {
     "data": {
      "text/plain": [
       "<AxesSubplot:xlabel='age', ylabel='earnings'>"
      ]
     },
     "execution_count": 13,
     "metadata": {},
     "output_type": "execute_result"
    },
    {
     "data": {
      "image/png": "[encoded data removed]",
      "text/plain": [
       "<Figure size 432x288 with 1 Axes>"
      ]
     },
     "metadata": {
      "needs_background": "light"
     },
     "output_type": "display_data"
    }
   ],
   "source": [
    "sns.boxplot(x='age',y='earnings',data=df1)"
   ]
  },
  {
   "cell_type": "markdown",
   "id": "e375b5c5",
   "metadata": {},
   "source": [
    "obeservation: age feature, outlier at range of >15000"
   ]
  },
  {
   "cell_type": "code",
   "execution_count": 14,
   "id": "3f9c298d",
   "metadata": {},
   "outputs": [
    {
     "data": {
      "text/plain": [
       "<seaborn.axisgrid.JointGrid at 0x23079d224c0>"
      ]
     },
     "execution_count": 14,
     "metadata": {},
     "output_type": "execute_result"
    },
    {
     "data": {
      "image/png": "[encoded data removed]",
      "text/plain": [
       "<Figure size 360x360 with 3 Axes>"
      ]
     },
     "metadata": {
      "needs_background": "light"
     },
     "output_type": "display_data"
    }
   ],
   "source": [
    "sns.jointplot(x=\"age\",y=\"hours\",data=df1,size=5,color='green')"
   ]
  },
  {
   "cell_type": "markdown",
   "id": "fee32a72",
   "metadata": {},
   "source": [
    "observation: Hours feature, outlier at Hours=0"
   ]
  },
  {
   "cell_type": "markdown",
   "id": "dd4587c5",
   "metadata": {},
   "source": [
    "# Remove outliers ( kids >=20 and education >= 20 and earnings >= 150000 and Hours=0)"
   ]
  },
  {
   "cell_type": "code",
   "execution_count": 15,
   "id": "41170d3d",
   "metadata": {},
   "outputs": [
    {
     "data": {
      "text/plain": [
       "Text(0.5, 0, 'Level of Education')"
      ]
     },
     "execution_count": 15,
     "metadata": {},
     "output_type": "execute_result"
    },
    {
     "data": {
      "image/png": "[encoded data removed]",
      "text/plain": [
       "<Figure size 432x288 with 1 Axes>"
      ]
     },
     "metadata": {
      "needs_background": "light"
     },
     "output_type": "display_data"
    }
   ],
   "source": [
    "df1 = df1.drop(df1[df1.education > 20].index)\n",
    "df1['education'].plot(kind='hist', bins=40,color='blue')\n",
    "plt.xlabel('Level of Education')"
   ]
  },
  {
   "cell_type": "code",
   "execution_count": 16,
   "id": "3c918fd6",
   "metadata": {},
   "outputs": [
    {
     "data": {
      "text/plain": [
       "Text(0.5, 0, 'Number Of Kids')"
      ]
     },
     "execution_count": 16,
     "metadata": {},
     "output_type": "execute_result"
    },
    {
     "data": {
      "image/png": "[encoded data removed]",
      "text/plain": [
       "<Figure size 432x288 with 1 Axes>"
      ]
     },
     "metadata": {
      "needs_background": "light"
     },
     "output_type": "display_data"
    }
   ],
   "source": [
    "df1 = df1.drop(df1[df1.kids > 20].index)\n",
    "df1['kids'].plot(kind='hist', bins=30,color='blue')\n",
    "plt.xlabel('Number Of Kids')"
   ]
  },
  {
   "cell_type": "code",
   "execution_count": 17,
   "id": "8da18b39",
   "metadata": {},
   "outputs": [
    {
     "data": {
      "text/plain": [
       "Text(0.5, 0, 'earnings')"
      ]
     },
     "execution_count": 17,
     "metadata": {},
     "output_type": "execute_result"
    },
    {
     "data": {
      "image/png": "[encoded data removed]",
      "text/plain": [
       "<Figure size 432x288 with 1 Axes>"
      ]
     },
     "metadata": {
      "needs_background": "light"
     },
     "output_type": "display_data"
    }
   ],
   "source": [
    "df1 = df1.drop(df1[df1.earnings > 150000].index)\n",
    "\n",
    "df1['earnings'].plot(kind='hist', bins=100,color='blue')\n",
    "plt.xlabel('earnings')"
   ]
  },
  {
   "cell_type": "code",
   "execution_count": 18,
   "id": "7e8206c0",
   "metadata": {},
   "outputs": [
    {
     "data": {
      "text/plain": [
       "Text(0.5, 0, 'Hours')"
      ]
     },
     "execution_count": 18,
     "metadata": {},
     "output_type": "execute_result"
    },
    {
     "data": {
      "image/png": "[encoded data removed]",
      "text/plain": [
       "<Figure size 432x288 with 1 Axes>"
      ]
     },
     "metadata": {
      "needs_background": "light"
     },
     "output_type": "display_data"
    }
   ],
   "source": [
    "\n",
    "df1 = df1.drop(df1[df1.hours == 0].index)\n",
    "df1['hours'].plot(kind='hist', bins=90,color='blue')\n",
    "plt.xlabel('Hours')"
   ]
  },
  {
   "cell_type": "markdown",
   "id": "5e0c5e22",
   "metadata": {},
   "source": [
    "# correlation between the features using Pearson's Correlation Coefficient"
   ]
  },
  {
   "cell_type": "code",
   "execution_count": 19,
   "id": "7beda105",
   "metadata": {},
   "outputs": [
    {
     "data": {
      "text/html": [
       "<div>\n",
       "<style scoped>\n",
       "    .dataframe tbody tr th:only-of-type {\n",
       "        vertical-align: middle;\n",
       "    }\n",
       "\n",
       "    .dataframe tbody tr th {\n",
       "        vertical-align: top;\n",
       "    }\n",
       "\n",
       "    .dataframe thead th {\n",
       "        text-align: right;\n",
       "    }\n",
       "</style>\n",
       "<table border=\"1\" class=\"dataframe\">\n",
       "  <thead>\n",
       "    <tr style=\"text-align: right;\">\n",
       "      <th></th>\n",
       "      <th>age</th>\n",
       "      <th>education</th>\n",
       "      <th>earnings</th>\n",
       "      <th>hours</th>\n",
       "      <th>kids</th>\n",
       "    </tr>\n",
       "  </thead>\n",
       "  <tbody>\n",
       "    <tr>\n",
       "      <th>age</th>\n",
       "      <td>1.000000</td>\n",
       "      <td>-0.011651</td>\n",
       "      <td>0.114818</td>\n",
       "      <td>0.060164</td>\n",
       "      <td>0.155162</td>\n",
       "    </tr>\n",
       "    <tr>\n",
       "      <th>education</th>\n",
       "      <td>-0.011651</td>\n",
       "      <td>1.000000</td>\n",
       "      <td>0.387013</td>\n",
       "      <td>0.076206</td>\n",
       "      <td>-0.279871</td>\n",
       "    </tr>\n",
       "    <tr>\n",
       "      <th>earnings</th>\n",
       "      <td>0.114818</td>\n",
       "      <td>0.387013</td>\n",
       "      <td>1.000000</td>\n",
       "      <td>0.466571</td>\n",
       "      <td>-0.241607</td>\n",
       "    </tr>\n",
       "    <tr>\n",
       "      <th>hours</th>\n",
       "      <td>0.060164</td>\n",
       "      <td>0.076206</td>\n",
       "      <td>0.466571</td>\n",
       "      <td>1.000000</td>\n",
       "      <td>-0.116544</td>\n",
       "    </tr>\n",
       "    <tr>\n",
       "      <th>kids</th>\n",
       "      <td>0.155162</td>\n",
       "      <td>-0.279871</td>\n",
       "      <td>-0.241607</td>\n",
       "      <td>-0.116544</td>\n",
       "      <td>1.000000</td>\n",
       "    </tr>\n",
       "  </tbody>\n",
       "</table>\n",
       "</div>"
      ],
      "text/plain": [
       "                age  education  earnings     hours      kids\n",
       "age        1.000000  -0.011651  0.114818  0.060164  0.155162\n",
       "education -0.011651   1.000000  0.387013  0.076206 -0.279871\n",
       "earnings   0.114818   0.387013  1.000000  0.466571 -0.241607\n",
       "hours      0.060164   0.076206  0.466571  1.000000 -0.116544\n",
       "kids       0.155162  -0.279871 -0.241607 -0.116544  1.000000"
      ]
     },
     "execution_count": 19,
     "metadata": {},
     "output_type": "execute_result"
    }
   ],
   "source": [
    "df1.corr(method='pearson')"
   ]
  },
  {
   "cell_type": "markdown",
   "id": "36625f9c",
   "metadata": {},
   "source": [
    " ## strong correlation is found in between Education & Earning, Hours & Earning"
   ]
  },
  {
   "cell_type": "code",
   "execution_count": 20,
   "id": "4e3ee8ba",
   "metadata": {},
   "outputs": [
    {
     "name": "stdout",
     "output_type": "stream",
     "text": [
      "Index(['education', 'earnings', 'hours', 'kids'], dtype='object')\n"
     ]
    },
    {
     "data": {
      "image/png": "[encoded data removed]",
      "text/plain": [
       "<Figure size 504x504 with 2 Axes>"
      ]
     },
     "metadata": {
      "needs_background": "light"
     },
     "output_type": "display_data"
    }
   ],
   "source": [
    "corrmap = df1.corr(method='pearson')\n",
    "earningfeatures = corrmap.index[abs(corrmap['earnings']) >= 0.2]\n",
    "print(earningfeatures)\n",
    "\n",
    "plt.figure(figsize=(7,7))\n",
    "ax = sns.heatmap(df1[earningfeatures].corr(), annot=True, cmap=\"YlGnBu\")"
   ]
  },
  {
   "cell_type": "code",
   "execution_count": 21,
   "id": "078fbd70",
   "metadata": {},
   "outputs": [
    {
     "name": "stdout",
     "output_type": "stream",
     "text": [
      "11.23319548635125 0.003636994070973471\n",
      "Hours not normally distributed.\n"
     ]
    }
   ],
   "source": [
    "v1, p = stat.normaltest(df1['hours'].sample(50))\n",
    "print(v1, p)\n",
    "if p >= 0.05:\n",
    "    print('Hours are normally distributed.')\n",
    "else:\n",
    "    print('Hours not normally distributed.')"
   ]
  },
  {
   "cell_type": "code",
   "execution_count": 22,
   "id": "f0be9e83",
   "metadata": {},
   "outputs": [
    {
     "name": "stdout",
     "output_type": "stream",
     "text": [
      "16000.0\n"
     ]
    }
   ],
   "source": [
    "samplingSize = 1500\n",
    "hypothesisVal = df1.earnings.median()\n",
    "print(hypothesisVal)\n",
    "\n"
   ]
  },
  {
   "cell_type": "code",
   "execution_count": 23,
   "id": "be536e34",
   "metadata": {},
   "outputs": [
    {
     "data": {
      "text/plain": [
       "count    1500.000000\n",
       "mean     1941.248667\n",
       "std       506.881882\n",
       "min       122.000000\n",
       "25%      1788.000000\n",
       "50%      1960.000000\n",
       "75%      2100.000000\n",
       "max      4821.000000\n",
       "Name: hours, dtype: float64"
      ]
     },
     "execution_count": 23,
     "metadata": {},
     "output_type": "execute_result"
    }
   ],
   "source": [
    "Hours_high_salary = df1[df1.earnings> hypothesisVal].hours.sample(samplingSize).sort_values()\n",
    "Hours_high_salary.describe()"
   ]
  },
  {
   "cell_type": "code",
   "execution_count": 24,
   "id": "fdbab4cf",
   "metadata": {},
   "outputs": [
    {
     "data": {
      "text/plain": [
       "count    1500.000000\n",
       "mean     1330.674000\n",
       "std       764.847193\n",
       "min         6.000000\n",
       "25%       720.000000\n",
       "50%      1425.500000\n",
       "75%      1960.000000\n",
       "max      5025.000000\n",
       "Name: hours, dtype: float64"
      ]
     },
     "execution_count": 24,
     "metadata": {},
     "output_type": "execute_result"
    }
   ],
   "source": [
    "Hours_low_salary = df1[df1.earnings<= hypothesisVal].hours.sample(samplingSize).sort_values()\n",
    "Hours_low_salary.describe()"
   ]
  },
  {
   "cell_type": "code",
   "execution_count": 25,
   "id": "cef7ad78",
   "metadata": {},
   "outputs": [],
   "source": [
    "import matplotlib.colors as mcolors"
   ]
  },
  {
   "cell_type": "code",
   "execution_count": 26,
   "id": "c4315add",
   "metadata": {
    "scrolled": false
   },
   "outputs": [
    {
     "data": {
      "text/plain": [
       "<matplotlib.legend.Legend at 0x2307b377eb0>"
      ]
     },
     "execution_count": 26,
     "metadata": {},
     "output_type": "execute_result"
    },
    {
     "data": {
      "image/png": "[encoded data removed]",
      "text/plain": [
       "<Figure size 648x504 with 1 Axes>"
      ]
     },
     "metadata": {
      "needs_background": "light"
     },
     "output_type": "display_data"
    }
   ],
   "source": [
    "obs = df1['hours'].sort_values();\n",
    "obsHours = stat.norm.pdf(obs, obs.mean(), obs.std())\n",
    "fig, ax = plt.subplots(figsize=(9,7))\n",
    "\n",
    "ax.plot(obs, obsHours, label='Hours',color='red')\n",
    "\n",
    "data_hours1 = stat.norm.pdf(Hours_high_salary, Hours_high_salary.mean(), Hours_high_salary.std())\n",
    "ax.plot(Hours_high_salary, data_hours1, label='High earnings',color='black')\n",
    "\n",
    "data_hours2 = stat.norm.pdf(Hours_low_salary, Hours_low_salary.mean(), Hours_low_salary.std())\n",
    "ax.plot(Hours_low_salary, data_hours2, label='Low earnings',color='green')\n",
    "\n",
    "plt.title('Hours Distribution People Worked')\n",
    "plt.xlabel('Working hours')\n",
    "plt.ylabel('pdf')\n",
    "plt.legend()"
   ]
  },
  {
   "cell_type": "markdown",
   "id": "f5d7fc1b",
   "metadata": {},
   "source": [
    "Hypothesis Testing : \n",
    "Ha = People who earn high salary work more hours, \n",
    "Assumption\n",
    "H0 = People with high or low salaries work the same number of hours\n",
    "\n"
   ]
  },
  {
   "cell_type": "code",
   "execution_count": 27,
   "id": "446a546b",
   "metadata": {},
   "outputs": [
    {
     "name": "stdout",
     "output_type": "stream",
     "text": [
      "Statistics=25.7720, p=0.0000\n",
      "People who get high salary work more hours, so reject H0\n"
     ]
    }
   ],
   "source": [
    "statistics, p_test1 = stat.ttest_ind(Hours_high_salary, Hours_low_salary)\n",
    "print('Statistics=%.4f, p=%.4f' % (statistics, p_test1))\n",
    "value = 0.05  # 5% area under the normal graph\n",
    "if p > value:\n",
    "    print('People with different range of incomes work same number of hours. Hence, fail to reject H0)')\n",
    "else:\n",
    "    print('People who get high salary work more hours, so reject H0')"
   ]
  },
  {
   "cell_type": "markdown",
   "id": "9ec2aeef",
   "metadata": {},
   "source": [
    "since we got p=0.00 so we reject the null hypothesis"
   ]
  },
  {
   "cell_type": "code",
   "execution_count": null,
   "id": "34a158a4",
   "metadata": {},
   "outputs": [],
   "source": []
  }
 ],
 "metadata": {
  "kernelspec": {
   "display_name": "Python 3 (ipykernel)",
   "language": "python",
   "name": "python3"
  },
  "language_info": {
   "codemirror_mode": {
    "name": "ipython",
    "version": 3
   },
   "file_extension": ".py",
   "mimetype": "text/x-python",
   "name": "python",
   "nbconvert_exporter": "python",
   "pygments_lexer": "ipython3",
   "version": "3.9.7"
  }
 },
 "nbformat": 4,
 "nbformat_minor": 5
}
